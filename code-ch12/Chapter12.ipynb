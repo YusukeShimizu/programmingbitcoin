{
 "cells": [
  {
   "cell_type": "code",
   "execution_count": 2,
   "metadata": {},
   "outputs": [],
   "source": [
    "############## PLEASE RUN THIS CELL FIRST! ###################\n",
    "\n",
    "# import everything and define a test runner function\n",
    "from importlib import reload\n",
    "from helper import run\n",
    "import bloomfilter\n",
    "import block\n",
    "import ecc\n",
    "import helper\n",
    "import merkleblock\n",
    "import network\n",
    "import script\n",
    "import tx"
   ]
  },
  {
   "cell_type": "code",
   "execution_count": 2,
   "metadata": {},
   "outputs": [
    {
     "output_type": "stream",
     "name": "stdout",
     "text": [
      "[0, 0, 0, 0, 0, 0, 0, 0, 0, 1]\n"
     ]
    }
   ],
   "source": [
    "from helper import hash256\n",
    "bit_field_size = 10\n",
    "bit_field = [0] * bit_field_size\n",
    "h = hash256(b'hello world')\n",
    "bit = int.from_bytes(h, 'big') % bit_field_size\n",
    "bit_field[bit] = 1\n",
    "print(bit_field)"
   ]
  },
  {
   "cell_type": "code",
   "execution_count": 3,
   "metadata": {},
   "outputs": [
    {
     "output_type": "stream",
     "name": "stdout",
     "text": [
      "[0, 0, 1, 0, 0, 0, 0, 0, 0, 1]\n"
     ]
    }
   ],
   "source": [
    "from helper import hash256\n",
    "bit_field_size = 10\n",
    "bit_field = [0] * bit_field_size\n",
    "for item in (b'hello world', b'goodbye'):\n",
    "    h = hash256(item)\n",
    "    bit = int.from_bytes(h, 'big') % bit_field_size\n",
    "    bit_field[bit] = 1\n",
    "print(bit_field)"
   ]
  },
  {
   "cell_type": "markdown",
   "metadata": {},
   "source": [
    "### Exercise 1\n",
    "\n",
    "Calculate the Bloom Filter for 'hello world' and 'goodbye' using the `hash160` hash function over a bit field of 10."
   ]
  },
  {
   "cell_type": "code",
   "execution_count": null,
   "metadata": {},
   "outputs": [],
   "source": [
    "# Exercise 1\n",
    "\n",
    "from helper import hash160\n",
    "\n",
    "bit_field_size = 10\n",
    "bit_field = [0] * bit_field_size\n",
    "items = (b'hello world', b'goodbye')\n",
    "# loop through each item\n",
    "    # hash160 the item\n",
    "    # interpret hash as a Big-Endian integer and mod by bit_field_size\n",
    "    # set that bit in bit_field to 1\n",
    "# print the bit_field"
   ]
  },
  {
   "cell_type": "code",
   "execution_count": 4,
   "metadata": {},
   "outputs": [
    {
     "output_type": "stream",
     "name": "stdout",
     "text": [
      "[1, 1, 1, 0, 0, 0, 0, 0, 0, 1]\n"
     ]
    }
   ],
   "source": [
    "from helper import hash256, hash160\n",
    "bit_field_size = 10\n",
    "bit_field = [0] * bit_field_size\n",
    "for item in (b'hello world', b'goodbye'):\n",
    "    for hash_function in (hash256, hash160):\n",
    "        h = hash_function(item)\n",
    "        bit = int.from_bytes(h, 'big') % bit_field_size\n",
    "        bit_field[bit] = 1\n",
    "print(bit_field)"
   ]
  },
  {
   "cell_type": "code",
   "execution_count": 5,
   "metadata": {},
   "outputs": [
    {
     "output_type": "stream",
     "name": "stdout",
     "text": [
      "[0, 0, 0, 0, 0, 1, 1, 0, 0, 1, 1, 0, 0, 0, 0, 0]\n"
     ]
    }
   ],
   "source": [
    "from helper import murmur3\n",
    "from bloomfilter import BIP37_CONSTANT\n",
    "field_size = 2\n",
    "num_functions = 2\n",
    "tweak = 42\n",
    "bit_field_size = field_size * 8\n",
    "bit_field = [0] * bit_field_size\n",
    "for phrase in (b'hello world', b'goodbye'):\n",
    "    for i in range(num_functions):\n",
    "        seed = i * BIP37_CONSTANT + tweak\n",
    "        h = murmur3(phrase, seed=seed)\n",
    "        bit = h % bit_field_size\n",
    "        bit_field[bit] = 1\n",
    "print(bit_field)"
   ]
  },
  {
   "cell_type": "markdown",
   "metadata": {},
   "source": [
    "### Exercise 2\n",
    "\n",
    "Given a Bloom Filter with size=10, function count=5, tweak=99, what are the bytes that are set after adding these items? (use `bit_field_to_bytes` to convert to bytes)\n",
    "\n",
    "* `b'Hello World'`\n",
    "* `b'Goodbye!'`"
   ]
  },
  {
   "cell_type": "code",
   "execution_count": 6,
   "metadata": {},
   "outputs": [
    {
     "output_type": "stream",
     "name": "stdout",
     "text": [
      "4000600a080000010940\n"
     ]
    }
   ],
   "source": [
    "# Exercise 2\n",
    "\n",
    "from bloomfilter import BloomFilter, BIP37_CONSTANT\n",
    "from helper import bit_field_to_bytes, murmur3\n",
    "\n",
    "field_size = 10\n",
    "function_count = 5\n",
    "tweak = 99\n",
    "items = (b'Hello World',  b'Goodbye!')\n",
    "# calculate the bitfield size\n",
    "bit_field_size = field_size * 8\n",
    "# create an empty bit field\n",
    "bit_field = [0] * bit_field_size\n",
    "# loop through items\n",
    "for item in items:\n",
    "    # loop through function count\n",
    "    for count in range(function_count):\n",
    "        # calculate the seed\n",
    "        seed = count * BIP37_CONSTANT + tweak\n",
    "        # get the murmur3 hash of the item using the seed\n",
    "        h = murmur3(item, seed=seed)\n",
    "        # mod by the bitfield size\n",
    "        bit = h % bit_field_size\n",
    "        # set the bit\n",
    "        bit_field[bit] = 1\n",
    "# convert the bit field to bytes\n",
    "# print the bytes in hex\n",
    "print(bit_field_to_bytes(bit_field).hex())\n"
   ]
  },
  {
   "cell_type": "markdown",
   "metadata": {},
   "source": [
    "### Exercise 3\n",
    "\n",
    "Write the `add` method for `BloomFilter`\n",
    "\n",
    "#### Make [this test](/edit/code-ch12/bloomfilter.py) pass: `bloomfilter.py:BloomFilterTest:test_add`"
   ]
  },
  {
   "cell_type": "code",
   "execution_count": 4,
   "metadata": {},
   "outputs": [
    {
     "output_type": "stream",
     "name": "stderr",
     "text": [
      ".\n",
      "----------------------------------------------------------------------\n",
      "Ran 1 test in 0.001s\n",
      "\n",
      "OK\n"
     ]
    }
   ],
   "source": [
    "# Exercise 3\n",
    "\n",
    "reload(bloomfilter)\n",
    "run(bloomfilter.BloomFilterTest(\"test_add\"))"
   ]
  },
  {
   "cell_type": "markdown",
   "metadata": {},
   "source": [
    "### Exercise 4\n",
    "\n",
    "Write the  `filterload` payload from the `BloomFilter` class.\n",
    "\n",
    "#### Make [this test](/edit/code-ch12/bloomfilter.py) pass: `bloomfilter.py:BloomFilterTest:test_filterload`"
   ]
  },
  {
   "cell_type": "code",
   "execution_count": 6,
   "metadata": {},
   "outputs": [
    {
     "output_type": "stream",
     "name": "stderr",
     "text": [
      ".\n",
      "----------------------------------------------------------------------\n",
      "Ran 1 test in 0.001s\n",
      "\n",
      "OK\n"
     ]
    }
   ],
   "source": [
    "# Exercise 4\n",
    "\n",
    "reload(bloomfilter)\n",
    "run(bloomfilter.BloomFilterTest(\"test_filterload\"))"
   ]
  },
  {
   "cell_type": "markdown",
   "metadata": {},
   "source": [
    "### Exercise 5\n",
    "\n",
    "Write the `serialize` method for the `GetDataMessage` class.\n",
    "\n",
    "#### Make [this test](/edit/code-ch12/network.py) pass: `network.py:GetDataMessageTest:test_serialize`"
   ]
  },
  {
   "cell_type": "code",
   "execution_count": 8,
   "metadata": {},
   "outputs": [
    {
     "output_type": "stream",
     "name": "stderr",
     "text": [
      ".\n",
      "----------------------------------------------------------------------\n",
      "Ran 1 test in 0.001s\n",
      "\n",
      "OK\n"
     ]
    }
   ],
   "source": [
    "# Exercise 5\n",
    "\n",
    "reload(network)\n",
    "run(network.GetDataMessageTest(\"test_serialize\"))"
   ]
  },
  {
   "cell_type": "code",
   "execution_count": 9,
   "metadata": {},
   "outputs": [
    {
     "output_type": "stream",
     "name": "stdout",
     "text": [
      "found: e3930e1e566ca9b75d53b0eb9acb7607f547e1182d1d22bd4b661cfe18dcddf1:0\n"
     ]
    }
   ],
   "source": [
    "from bloomfilter import BloomFilter\n",
    "from helper import decode_base58\n",
    "from merkleblock import MerkleBlock\n",
    "from network import FILTERED_BLOCK_DATA_TYPE, GetHeadersMessage, GetDataMessage, HeadersMessage, SimpleNode\n",
    "from tx import Tx\n",
    "last_block_hex = '00000000000538d5c2246336644f9a4956551afb44ba47278759ec55ea912e19'\n",
    "address = 'mwJn1YPMq7y5F8J3LkC5Hxg9PHyZ5K4cFv'\n",
    "h160 = decode_base58(address)\n",
    "node = SimpleNode('testnet.programmingbitcoin.com', testnet=True, logging=False)\n",
    "bf = BloomFilter(size=30, function_count=5, tweak=90210)\n",
    "bf.add(h160)\n",
    "node.handshake()\n",
    "node.send(bf.filterload())\n",
    "start_block = bytes.fromhex(last_block_hex)\n",
    "getheaders = GetHeadersMessage(start_block=start_block)\n",
    "node.send(getheaders)\n",
    "headers = node.wait_for(HeadersMessage)\n",
    "getdata = GetDataMessage()\n",
    "for b in headers.blocks:\n",
    "    if not b.check_pow():\n",
    "        raise RuntimeError('proof of work is invalid')\n",
    "    getdata.add_data(FILTERED_BLOCK_DATA_TYPE, b.hash())\n",
    "node.send(getdata)\n",
    "found = False\n",
    "while not found:\n",
    "    message = node.wait_for(MerkleBlock, Tx)\n",
    "    if message.command == b'merkleblock':\n",
    "        if not message.is_valid():\n",
    "            raise RuntimeError('invalid merkle proof')\n",
    "    else:\n",
    "        for i, tx_out in enumerate(message.tx_outs):\n",
    "            if tx_out.script_pubkey.address(testnet=True) == address:\n",
    "                print('found: {}:{}'.format(message.id(), i))\n",
    "                found = True\n",
    "                break"
   ]
  },
  {
   "cell_type": "markdown",
   "metadata": {},
   "source": [
    "### Exercise 6\n",
    "\n",
    "Get the current testnet block ID, send yourself some testnet coins, find the UTXO corresponding to the testnet coin _without using a block explorer_, create a transaction using that UTXO as an input and broadcast the `tx` message on the  testnet network."
   ]
  },
  {
   "cell_type": "code",
   "execution_count": 3,
   "metadata": {
    "tags": [
     "outputPrepend"
    ]
   },
   "outputs": [
    {
     "output_type": "stream",
     "name": "stdout",
     "text": [
      "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\n",
      "sending: getdata: 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\n",
      "receiving: merkleblock: 00e0002009311a3299bff5073677d9bb4a2ca9f198d32839f6879b5e0800000000000000750a0331f7ecec5d42ab1b8c26af462627be421f31c87ab95e8131b8653234860c23ed5f73821b19e2aa48731800000001750a0331f7ecec5d42ab1b8c26af462627be421f31c87ab95e8131b8653234860100\n",
      "receiving: merkleblock: 00008020fc087cdfce7513d8ef5d2ee8dc063ded0422a3966ab3bbb90f00000000000000442044f97e7e5bfd17c14139acc5ed69ee51cb51286fbf79a3f4cf340e227a631e23ed5f73821b19c7a24e860400000001442044f97e7e5bfd17c14139acc5ed69ee51cb51286fbf79a3f4cf340e227a630100\n",
      "receiving: merkleblock: 0000ff3f79a5f6fc780973615ec20705bebd57156ceafc3a5ad12c8f0500000000000000e00e55013c937a6bb659d7266b7aed3f95bba8af0bd33ed1f9b2ef1e79e0cd3b6224ed5f73821b19a4b2ba3c3b000000072a30c7735454a068702c002e2961539aed8cad866ef0b9d5aac757aa94a4f63074ea5593c47f290308b79ab0517bbd43df5dc2ccebddee6ea536665058f016cfeca9a40de913674a987077d51956303445d874690d5dd677dfaca7280c1e3e21b847833fa932e8944bf2b7f3052019323c4817aa56de5db2808c69628581d16e9cbb25b12eae6fffec0055ec677d445084f38d162ebdebd0b1e9c0023bd98f335f3b86b49efc060b1c0b5b01afa42c1af37b39cdcf41dcec44f92dfe88d3b39dd6f6105775855ea4ca009a797797d5cbea613a9e6e787390f581f1db93830e7702df00\n",
      "receiving: tx: 0200000001b121e81af25ae34286258b7fd327e7381434c58aaae0109822a84e99a4c619b5010000001716001441976e34d7a8482bcbf0626e793aa7318097db04feffffff02774e1900000000001976a914d6c1ae87e6c8f593be24d7143320344a82d741bf88ac7125971e0000000017a914433302c528669a28f3fa2ce1256e35b9b1b230aa87be031d00\n",
      "found: cf16f058506636a56eeeddebccc25ddf43bd7b51b09ab70803297fc49355ea74:0\n",
      "True\n",
      "010000000174ea5593c47f290308b79ab0517bbd43df5dc2ccebddee6ea536665058f016cf000000006b483045022100ef2c9aee5b3598d84cc9bc210ca01d220f0019081d34abf27b459a73462de4790220413d7857005b7dc257909f1e44c7c60aa33a0b006858248637d2c9693972d1b8012103c3b7aa8181780cea36e55c9f1f7f808160f1149b9df8f437e11ff45a3c5c16e8ffffffff01ef3a1900000000001976a914ad346f8eb57dee9a37981716e498120ae80e44f788ac00000000\n",
      "sending: tx: 010000000174ea5593c47f290308b79ab0517bbd43df5dc2ccebddee6ea536665058f016cf000000006b483045022100ef2c9aee5b3598d84cc9bc210ca01d220f0019081d34abf27b459a73462de4790220413d7857005b7dc257909f1e44c7c60aa33a0b006858248637d2c9693972d1b8012103c3b7aa8181780cea36e55c9f1f7f808160f1149b9df8f437e11ff45a3c5c16e8ffffffff01ef3a1900000000001976a914ad346f8eb57dee9a37981716e498120ae80e44f788ac00000000\n",
      "sending: getdata: 01010000004aa6e44ef97c62b7fc63c4668368d0a39dd25eb3dabe85822d9c369971561bbb\n",
      "receiving: merkleblock: 0000002060eac4e824b18d1b0743d04936afaf18b69f0004e20cb62519000000000000006974c32d897082ff2910c133707f37bdd9eef60607b925b1a3ef12ccacdd45d28825ed5f73821b19731ad9b828000000016974c32d897082ff2910c133707f37bdd9eef60607b925b1a3ef12ccacdd45d20100\n",
      "receiving: merkleblock: 00000020dc645c19548598f54bc1ae44da8fd31119e41ebe0c56df0304000000000000001419b7a2d6eed3bd65682369dc0faf7975012e1edda46b9a59550cf2b4d60f383a2aed5fffff001daae6c9387e000000011419b7a2d6eed3bd65682369dc0faf7975012e1edda46b9a59550cf2b4d60f380100\n",
      "receiving: merkleblock: 0000ff3f336753dacb45a25792f16fd1b889ae770c45ee786a83fe3a8bf0715900000000b80d206110995f4242c1322ee1173ea8e17564acfe7e383884a30c9233d94af22b2aed5f73821b19cf1ffdc10d00000001b80d206110995f4242c1322ee1173ea8e17564acfe7e383884a30c9233d94af20100\n",
      "receiving: merkleblock: 00e000203348cbe1a7c116f766bda4a1466e6bbdcf9c85a64003ef9a0100000000000000567065b71c40774070c4178762b829c46e3b4999837e0eb8b14117efbe9d03f8bc2aed5f73821b192559b3272c00000001567065b71c40774070c4178762b829c46e3b4999837e0eb8b14117efbe9d03f80100\n",
      "receiving: merkleblock: 0000ff3f0fce25d9054c02a47bc488da15600f97ea7353f2187c03961700000000000000e245264fa3a570d1d21d37ec46c0099375d2605511f985f482e94fe738cda28ed22bed5f73821b1904f7aa3a2100000001e245264fa3a570d1d21d37ec46c0099375d2605511f985f482e94fe738cda28e0100\n",
      "receiving: merkleblock: 00e0ff3ff99005ca91e4d74b1a0804cf5c2a6e7581d6aee4c0b3c72411000000000000004bc25598d2f88f4fcf61ddedbdd95e319d427bb722a41a5cc652ba8679406d5d672ced5f73821b19bd1fa9261a000000014bc25598d2f88f4fcf61ddedbdd95e319d427bb722a41a5cc652ba8679406d5d0100\n",
      "receiving: merkleblock: 00000020c725e1fecd5f2f6918f11fcf668ec4cf36436e01992ff7ed04000000000000006bf8554081b89ae94cbc4b28aaddfc254afdc4ae8fc4029635ed26964c1907dd2431ed5fffff001d5c1c668778000000016bf8554081b89ae94cbc4b28aaddfc254afdc4ae8fc4029635ed26964c1907dd0100\n",
      "receiving: merkleblock: 0000ff3f494ecadd0994e0105dac0b3753df0695fde398cb79872857e6a3ae5400000000cf6db4e90c9fb5da9a8e09dd8ffd4c876d03af94c953d556269d83dc878e084c9831ed5f73821b19828a10ef2700000001cf6db4e90c9fb5da9a8e09dd8ffd4c876d03af94c953d556269d83dc878e084c0100\n",
      "receiving: merkleblock: 00000020c3b3ee84046d4e39583253237118d4f89fb38e237befddc91000000000000000169a14e740f37e9ed377f918960db2e0f8e9e93ba4eb2c26705db9988575e54c4a36ed5fffff001d2112966f3200000001169a14e740f37e9ed377f918960db2e0f8e9e93ba4eb2c26705db9988575e54c0100\n",
      "receiving: merkleblock: 00e0ff3fa53a66635e0097845ba95433d233b237cf833f4cfaf7fcd7c8ef860f000000008abf443efa3ede242934bf39b30ed7eff2a4646bb8c8ddc31f2c30e51848d7041137ed5f73821b19378db73b09000000018abf443efa3ede242934bf39b30ed7eff2a4646bb8c8ddc31f2c30e51848d7040100\n",
      "receiving: merkleblock: 000000205bb2fd495ff9b90a8211a5c8cc1a7256fd8bc2b415c5f3950800000000000000a8a13b46f344ed2975c709d37d673365272275cc74f5ebed5261407abf23635d573aed5f73821b1924c840623300000001a8a13b46f344ed2975c709d37d673365272275cc74f5ebed5261407abf23635d0100\n",
      "receiving: merkleblock: 00e0ff3f27fcb7eb910ac6eee8140a187250ad58d0708a82c86814ee0200000000000000334373c8b99e0fc08606ca114a19f414375b78c39b1534d9ef36f29c616274a3793aed5f73821b19ad4894310200000001334373c8b99e0fc08606ca114a19f414375b78c39b1534d9ef36f29c616274a30100\n",
      "receiving: merkleblock: 00e0ff3f3f75b39bdccef1018e1b19eab1ac76b0fd12a9ea9201eb7d08000000000000007b4e4ca6390a04781594b298040e6080cf108fed7da127de7476a23b65a916486f3bed5f73821b197480ee6332000000017b4e4ca6390a04781594b298040e6080cf108fed7da127de7476a23b65a916480100\n",
      "receiving: merkleblock: 00000020a3aab624aad60a86a30fa220e1d011a23abb4fb76854b2ac0c000000000000008968712771a2074b9dc3f568ee1238f8798c0d57d11c923701250e9725b47b9f463eed5f73821b19a0ab6c7795000000018968712771a2074b9dc3f568ee1238f8798c0d57d11c923701250e9725b47b9f0100\n",
      "receiving: merkleblock: 0000002069aefc26019ac88094e99e3356fe0679f9122dae45cd790607000000000000007b7b45880798bab7818bccb0a6f3399e4ba2a8cbcc2fa604d863da1d541634b3873fed5f73821b19e144b98a56000000017b7b45880798bab7818bccb0a6f3399e4ba2a8cbcc2fa604d863da1d541634b30100\n",
      "receiving: merkleblock: 0000ff3faf72dae5f0b5d440b333f3387d286fd1c5aab0ecc49a760e180000000000000013a2d835e73c2d51497d81a1003312e72f203014bc44e3ccdee25a2b9e9e57deb540ed5f73821b197e112171560000000113a2d835e73c2d51497d81a1003312e72f203014bc44e3ccdee25a2b9e9e57de0100\n",
      "receiving: merkleblock: 00e0ff3fbcc4bfa93e333e16dbc11eb73b8be210099a001894482266080000000000000063aaba1854148286e0fe6f15ae16ec0dc7c62819a39d1e76e2010ff3c9211304e242ed5f73821b19af70dc71890000000163aaba1854148286e0fe6f15ae16ec0dc7c62819a39d1e76e2010ff3c92113040100\n",
      "receiving: merkleblock: 0000002043729872bcd6592aa1bb89bb9dfcf3661c55570c644259190600000000000000d5a416ee46315d276bc6499e5fac1da71718a8fe25bea8416a9f481193871314a347ed5fffff001d565418de7500000001d5a416ee46315d276bc6499e5fac1da71718a8fe25bea8416a9f4811938713140100\n",
      "receiving: merkleblock: 0000ff3fc9e419e341ab7e3695467f5d73f5474a3a80b402d250871c7d2d16360000000056ceda8ec2e23b3ddd3734793ba4efdaf49b158223c4fcdd0290da45165752887e4aed5f73821b192e757c3f780000000156ceda8ec2e23b3ddd3734793ba4efdaf49b158223c4fcdd0290da45165752880100\n",
      "receiving: merkleblock: 000080207dd08e0162a34297e769ad480d16b0c09eebd4909e01a3940200000000000000136a76e19512425f99782e9ba468e8752643a4e8e2ba9e6b733250654ddecc8e914bed5f73821b19cb18cf582c00000001136a76e19512425f99782e9ba468e8752643a4e8e2ba9e6b733250654ddecc8e0100\n",
      "receiving: merkleblock: 00e0002095bcd893af703dca1eaf8a56b4d0b23d9ea193a6b58ef9311a000000000000003dce9b308d523f2d1ca54b9139852d7d25e2571e26dac158ee1d8b49660a7d8f454ced5f73821b19669bee0a2e000000013dce9b308d523f2d1ca54b9139852d7d25e2571e26dac158ee1d8b49660a7d8f0100\n",
      "receiving: merkleblock: 0000002046f17c1e6f6cb537da3d9d3fe2a2df638083aaecd3f845560300000000000000fd6190da12adad679f7e01385a73aa351fbb82845e9435f2a5f090af82481590204ded5f73821b1924697dfe1100000001fd6190da12adad679f7e01385a73aa351fbb82845e9435f2a5f090af824815900100\n",
      "receiving: merkleblock: 000000204829bcb7ec8e77b609c13b81aa72448dd05b979ab56c16ec1400000000000000788b9bced067b0af59b6f6ceb8c55a6a19e00a3606256ec00c6c61f3c825a2cf2a4eed5f73821b19e7bd5b7c2500000001788b9bced067b0af59b6f6ceb8c55a6a19e00a3606256ec00c6c61f3c825a2cf0100\n",
      "receiving: merkleblock: 00e0ff3fe49350df9eb386b73a00787e498436f9b9a26ab155468f0d1100000000000000256d662dfd6d73659e1ac769868f142404de837623ebcb291512bd7c7d7443d02c51ed5f73821b19293d63f85500000001256d662dfd6d73659e1ac769868f142404de837623ebcb291512bd7c7d7443d00100\n",
      "receiving: merkleblock: 000000209075795ae55868062f41eb5df6397c0ddd0e363d17b6cb330600000000000000f97843ae4d56bf13ead96efacfcd6d17cd04eaa83c60f53172d4a1289a749ba5e655ed5fffff001d37847fe28d00000001f97843ae4d56bf13ead96efacfcd6d17cd04eaa83c60f53172d4a1289a749ba50100\n",
      "receiving: merkleblock: 0000ff3fb9c13212de9dbf0f169d67e7130b0805683d7b34467be7f208e5b442000000004fc52a34f44a931ddf0439a2d988739b83d034cc412c575c30166d0c2d4a8a876656ed5f73821b1972ca2bc223000000014fc52a34f44a931ddf0439a2d988739b83d034cc412c575c30166d0c2d4a8a870100\n",
      "receiving: merkleblock: 00e00020eefb0d6fba067e0bd6dbf7adf0d2fd7cd662dc578cfa159b140000000000000044cca396b42f77c3ffdee02efab064741c09515f35836ec8ab77134a4a409b8d1758ed5f73821b19bfe0f928300000000144cca396b42f77c3ffdee02efab064741c09515f35836ec8ab77134a4a409b8d0100\n",
      "receiving: merkleblock: 0000c02022e5a4e2b8212062a24351f09309429e50e3b06c8047dc8b14000000000000003534ee565a252969e8784b7cdbcb0987a4e13e7c6b68ed870283aaeeb01df370615bed5f73821b19adc72ecd6b000000013534ee565a252969e8784b7cdbcb0987a4e13e7c6b68ed870283aaeeb01df3700100\n",
      "receiving: merkleblock: 00000020f749e0631dc60a2227cfbe039cbf87a58fb6aee7d4b6e3841a000000000000005884f5c4094a28a503a8797fd8885c26d45b51c8cbbcf98fc7fc0053c39c6d3b1760ed5fffff001de10b19bcab000000015884f5c4094a28a503a8797fd8885c26d45b51c8cbbcf98fc7fc0053c39c6d3b0100\n",
      "receiving: merkleblock: 00004020875bb6a79f09ec141e2660df4a2b96bc2820f638f912fc15115c3f13000000008b4b0374d32f2ac64e444a3dd1febfa5b33b5d0bb5da0162e96573739f59a5b3c561ed5f73821b19b401a40a39000000018b4b0374d32f2ac64e444a3dd1febfa5b33b5d0bb5da0162e96573739f59a5b30100\n",
      "receiving: merkleblock: 0000002082a45b5fb49a918915f8d6babeb6dc969489480af32724270000000000000000f13781cfde7e93673b3fc8fe30f090e8dbce6b394db7488ccec838c0b2bdded6a365ed5f73821b1943451ccd3b00000001f13781cfde7e93673b3fc8fe30f090e8dbce6b394db7488ccec838c0b2bdded60100\n",
      "receiving: merkleblock: 000000203419fdd5df4e1d70534d1e04d5f8bc0292891c678c299857060000000000000002a318719cf96d22282d237cf928a950a58deb646bc962652b1f9d9d4271acf1566aed5fffff001d0538922c220000000102a318719cf96d22282d237cf928a950a58deb646bc962652b1f9d9d4271acf10100\n",
      "receiving: merkleblock: 00e000209fdd80797d7350375d10ff46804a4adff6d4d416dd074fd393af833d00000000f43e931488a637f24a660c9b0d34408971d0042c4bb4ccd8874caf0f7e97b81eb76bed5f73821b1907d415d03400000001f43e931488a637f24a660c9b0d34408971d0042c4bb4ccd8874caf0f7e97b81e0100\n",
      "receiving: merkleblock: 00e00020fec9eccd4fd860e8e034acc0af9361aef9376caec18689400a00000000000000a670a8c8b7a69cc93924e40260f50c6cad6be15f73962bb88131d1fef2f81951836ced5f73821b19336652ee14000000067f80ab9de1aa3b81121371f3646c100b13bdf8d75cba2fd6f5ad24e2d1bd2e4d93e2508119953fcbb9657be11ee4523208b0b3de42be8a2e96318a01373b47a74aa6e44ef97c62b7fc63c4668368d0a39dd25eb3dabe85822d9c369971561bbb5d8ddceb4d09500a36b6f7fa41837498106c6c5554e3060c2df56146dfeaeb1481f21920e7a778ea7016238af714b48cefdd96c1ce7cfb1343ccb8bbcad8d2991654511f48150edf90dc3619db688fa46e6403367b94cfafa3c62bca6ae3113302d700\n",
      "receiving: tx: 010000000174ea5593c47f290308b79ab0517bbd43df5dc2ccebddee6ea536665058f016cf000000006b483045022100ef2c9aee5b3598d84cc9bc210ca01d220f0019081d34abf27b459a73462de4790220413d7857005b7dc257909f1e44c7c60aa33a0b006858248637d2c9693972d1b8012103c3b7aa8181780cea36e55c9f1f7f808160f1149b9df8f437e11ff45a3c5c16e8ffffffff01ef3a1900000000001976a914ad346f8eb57dee9a37981716e498120ae80e44f788ac00000000\n",
      "success!\n"
     ]
    }
   ],
   "source": [
    "# Exercise 6\n",
    "\n",
    "import time\n",
    "\n",
    "from block import Block\n",
    "from bloomfilter import BloomFilter\n",
    "from ecc import PrivateKey\n",
    "from helper import hash256, little_endian_to_int, encode_varint, read_varint, decode_base58, SIGHASH_ALL\n",
    "from merkleblock import MerkleBlock\n",
    "from network import (\n",
    "    GetDataMessage,\n",
    "    GetHeadersMessage,\n",
    "    HeadersMessage,\n",
    "    NetworkEnvelope,\n",
    "    SimpleNode,\n",
    "    TX_DATA_TYPE,\n",
    "    FILTERED_BLOCK_DATA_TYPE,\n",
    ")\n",
    "from script import p2pkh_script, Script\n",
    "from tx import Tx, TxIn, TxOut\n",
    "\n",
    "last_block_hex = '00000000000000085e9b87f63928d398f1a92c4abbd9773607f5bf99321a3109'  # FILL THIS IN\n",
    "\n",
    "secret = little_endian_to_int(\n",
    "    hash256(b'stm1051212@yahoo.co.jp'))  # FILL THIS IN\n",
    "private_key = PrivateKey(secret=secret)\n",
    "addr = private_key.point.address(testnet=True)\n",
    "print(\"change_address:\", addr)\n",
    "h160 = decode_base58(addr)\n",
    "\n",
    "target_address = 'mwJn1YPMq7y5F8J3LkC5Hxg9PHyZ5K4cFv'\n",
    "target_h160 = decode_base58(target_address)\n",
    "target_script = p2pkh_script(target_h160)\n",
    "fee = 5000  # fee in satoshis\n",
    "\n",
    "\n",
    "# connect to testnet.programmingbitcoin.com in testnet mode\n",
    "node = SimpleNode('testnet.programmingbitcoin.com', testnet=True, logging=True)\n",
    "# create a bloom filter of size 30 and 5 functions. Add a tweak.\n",
    "bf = BloomFilter(size=30, function_count=5, tweak=90210)\n",
    "# add the h160 to the bloom filter\n",
    "bf.add(h160)\n",
    "# complete the handshake\n",
    "node.handshake()\n",
    "# load the bloom filter with the filterload command\n",
    "node.send(bf.filterload())\n",
    "# set start block to last_block from above\n",
    "start_block = bytes.fromhex(last_block_hex)\n",
    "# send a getheaders message with the starting block\n",
    "getheaders = GetHeadersMessage(start_block=start_block)\n",
    "node.send(getheaders)\n",
    "# wait for the headers message\n",
    "headers = node.wait_for(HeadersMessage)\n",
    "# store the last block as None\n",
    "last_block = None\n",
    "# initialize the GetDataMessage\n",
    "getdata = GetDataMessage()\n",
    "# loop through the blocks in the headers\n",
    "for b in headers.blocks:\n",
    "    # check that the proof of work on the block is valid\n",
    "    if not b.check_pow():\n",
    "        raise RuntimeError('proof of work is invalid')\n",
    "    # check that this block's prev_block is the last block\n",
    "    if last_block is not None and last_block != b.prev_block:\n",
    "        raise RuntimeError('block is not chained')\n",
    "    # add a new item to the get_data_message\n",
    "    # should be FILTERED_BLOCK_DATA_TYPE and block hash\n",
    "    getdata.add_data(FILTERED_BLOCK_DATA_TYPE, b.hash())\n",
    "    # set the last block to the current hash\n",
    "    last_block = b.hash()\n",
    "\n",
    "# send the getdata message\n",
    "node.send(getdata)\n",
    "# initialize prev_tx, prev_index and  to None\n",
    "prev_tx, prev_index, prev_amount = None, None, None\n",
    "# loop while prev_tx is None\n",
    "while prev_tx is None:\n",
    "    # wait for the merkleblock or tx commands\n",
    "    message = node.wait_for(MerkleBlock, Tx)\n",
    "    # if we have the merkleblock command\n",
    "    if message.command == b'merkleblock':\n",
    "        # check that the MerkleBlock is valid\n",
    "        if not message.is_valid():\n",
    "            raise RuntimeError('invalid merkle proof')\n",
    "    # else we have the tx command\n",
    "    elif message.command == b'tx':\n",
    "        # set the tx's testnet to be True\n",
    "        message.testnet = True\n",
    "        # loop through the tx outs\n",
    "        for i, tx_out in enumerate(message.tx_outs):\n",
    "            # if our output has the same address as our address we found it\n",
    "            if tx_out.script_pubkey.address(testnet=True) == addr:\n",
    "                # we found our utxo. set prev_tx, prev_index, and tx\n",
    "                prev_tx = message.hash()\n",
    "                prev_index = i\n",
    "                prev_amount = tx_out.amount\n",
    "                print('found: {}:{}'.format(prev_tx.hex(), prev_index))\n",
    "                # create the TxIn\n",
    "                tx_in = TxIn(prev_tx, prev_index)\n",
    "                # calculate the output amount (previous amount minus the fee)\n",
    "                output_amount = prev_amount - fee\n",
    "                # create a new TxOut to the target script with the output amount\n",
    "                tx_out = TxOut(output_amount, target_script)\n",
    "                # create a new transaction with the one input and one output\n",
    "                tx_obj = Tx(1, [tx_in], [tx_out], 0, testnet=True)\n",
    "                # sign the only input of the transaction\n",
    "                print(tx_obj.sign_input(0, private_key))\n",
    "                # serialize and hex to see what it looks like\n",
    "                print(tx_obj.serialize().hex())\n",
    "                # send this signed transaction on the network\n",
    "                node.send(tx_obj)\n",
    "                # wait a sec so this message goes through with time.sleep(1)\n",
    "                time.sleep(1)\n",
    "                # now ask for this transaction from the other node\n",
    "                # create a GetDataMessage\n",
    "                getdata = GetDataMessage()\n",
    "                # ask for our transaction by adding it to the message\n",
    "                getdata.add_data(TX_DATA_TYPE, tx_obj.hash())\n",
    "                # send the message\n",
    "                node.send(getdata)\n",
    "                # now wait for a Tx response\n",
    "                received_tx = node.wait_for(Tx)\n",
    "                # if the received tx has the same id as our tx, we are done!\n",
    "                if received_tx.id() == tx_obj.id():\n",
    "                    print('success!')\n"
   ]
  },
  {
   "cell_type": "code",
   "execution_count": null,
   "metadata": {},
   "outputs": [],
   "source": []
  }
 ],
 "metadata": {
  "kernelspec": {
   "name": "python3",
   "display_name": "Python 3",
   "language": "python"
  }
 },
 "nbformat": 4,
 "nbformat_minor": 2
}